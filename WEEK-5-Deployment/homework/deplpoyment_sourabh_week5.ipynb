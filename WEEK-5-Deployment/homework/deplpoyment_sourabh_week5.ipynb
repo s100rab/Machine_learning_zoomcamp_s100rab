{
 "cells": [
  {
   "cell_type": "code",
   "execution_count": 1,
   "metadata": {},
   "outputs": [
    {
     "name": "stdout",
     "output_type": "stream",
     "text": [
      "pipenv, version 2024.0.1\n"
     ]
    }
   ],
   "source": [
    "!pipenv --version\n"
   ]
  },
  {
   "cell_type": "code",
   "execution_count": 3,
   "metadata": {},
   "outputs": [
    {
     "name": "stderr",
     "output_type": "stream",
     "text": [
      "Creating a virtualenv for this project...\n",
      "Pipfile: E:\\HCL_Technical_Lead\\SIE_OSIV_HCL_TRAINING\\PYTHON_DS_DE\\Machine_learning_zoomcamp_DATAtalks\\WEEK-5-Deployment\\homework\\Pipfile\n",
      "Using C:/Users/rajmi/anaconda3/envs/DE_BD/python.exe (3.10.13) to create virtualenv...\n",
      "OSError: [Errno 28] No space left on device\n",
      "\n",
      "Failed creating virtual environment\n",
      "[pipenv.exceptions.VirtualenvCreationException]: \n",
      "Failed to create virtual environment.\n"
     ]
    }
   ],
   "source": [
    "!pipenv install\n"
   ]
  },
  {
   "cell_type": "code",
   "execution_count": 9,
   "metadata": {},
   "outputs": [
    {
     "name": "stderr",
     "output_type": "stream",
     "text": [
      "Creating a virtualenv for this project...\n",
      "Pipfile: E:\\HCL_Technical_Lead\\SIE_OSIV_HCL_TRAINING\\PYTHON_DS_DE\\Machine_learning_zoomcamp_DATAtalks\\WEEK-5-Deployment\\homework\\Pipfile\n",
      "Using C:/Users/rajmi/anaconda3/envs/DE_BD/python.exe (3.10.13) to create virtualenv...\n",
      "RuntimeError: failed to build image setuptools because:\n",
      "Traceback (most recent call last):\n",
      "  File \"C:\\Users\\rajmi\\anaconda3\\envs\\DS_AI_ML\\lib\\site-packages\\virtualenv\\seed\\embed\\via_app_data\\via_app_data.py\", line 57, in _install\n",
      "    installer.install(creator.interpreter.version_info)\n",
      "  File \"C:\\Users\\rajmi\\anaconda3\\envs\\DS_AI_ML\\lib\\site-packages\\virtualenv\\seed\\embed\\via_app_data\\pip_install\\base.py\", line 33, in install\n",
      "    self._uninstall_previous_version()\n",
      "  File \"C:\\Users\\rajmi\\anaconda3\\envs\\DS_AI_ML\\lib\\site-packages\\virtualenv\\seed\\embed\\via_app_data\\pip_install\\base.py\", line 144, in _uninstall_previous_version\n",
      "    dist_name = self._dist_info.stem.split(\"-\")[0]\n",
      "  File \"C:\\Users\\rajmi\\anaconda3\\envs\\DS_AI_ML\\lib\\site-packages\\virtualenv\\seed\\embed\\via_app_data\\pip_install\\base.py\", line 110, in _dist_info\n",
      "    raise RuntimeError(msg)  # pragma: no cover\n",
      "RuntimeError: no .dist-info at C:\\Users\\rajmi\\AppData\\Local\\pypa\\virtualenv\\wheel\\3.10\\image\\1\\CopyPipInstall\\setuptools-71.1.0-py3-none-any, has distutils-precedence.pth, pkg_resources, setuptools, _distutils_hack\n",
      "\n",
      "\n",
      "Failed creating virtual environment\n",
      "[pipenv.exceptions.VirtualenvCreationException]: \n",
      "Failed to create virtual environment.\n"
     ]
    }
   ],
   "source": [
    "!pipenv install scikit-learn==1.5.2\n"
   ]
  },
  {
   "cell_type": "code",
   "execution_count": 6,
   "metadata": {},
   "outputs": [
    {
     "name": "stderr",
     "output_type": "stream",
     "text": [
      "c:\\Users\\rajmi\\anaconda3\\envs\\DS_AI_ML\\lib\\site-packages\\sklearn\\base.py:347: InconsistentVersionWarning: Trying to unpickle estimator DictVectorizer from version 1.5.2 when using version 1.3.0. This might lead to breaking code or invalid results. Use at your own risk. For more info please refer to:\n",
      "https://scikit-learn.org/stable/model_persistence.html#security-maintainability-limitations\n",
      "  warnings.warn(\n"
     ]
    },
    {
     "name": "stdout",
     "output_type": "stream",
     "text": [
      "Subscription probability: 0.9085008884049968\n"
     ]
    },
    {
     "name": "stderr",
     "output_type": "stream",
     "text": [
      "c:\\Users\\rajmi\\anaconda3\\envs\\DS_AI_ML\\lib\\site-packages\\sklearn\\base.py:347: InconsistentVersionWarning: Trying to unpickle estimator LogisticRegression from version 1.5.2 when using version 1.3.0. This might lead to breaking code or invalid results. Use at your own risk. For more info please refer to:\n",
      "https://scikit-learn.org/stable/model_persistence.html#security-maintainability-limitations\n",
      "  warnings.warn(\n"
     ]
    }
   ],
   "source": [
    "import pickle\n",
    "\n",
    "# Load vectorizer and model\n",
    "with open('dv.bin', 'rb') as dv_file:\n",
    "    dv = pickle.load(dv_file)\n",
    "with open('model1.bin', 'rb') as model_file:\n",
    "    model = pickle.load(model_file)\n",
    "\n",
    "# Define client data\n",
    "client = {\"job\": \"management\", \"duration\": 400, \"poutcome\": \"success\"}\n",
    "\n",
    "# Transform client data and make prediction\n",
    "X = dv.transform([client])\n",
    "probability = model.predict_proba(X)[0, 1]\n",
    "\n",
    "print(\"Subscription probability:\", probability)\n"
   ]
  },
  {
   "cell_type": "code",
   "execution_count": 8,
   "metadata": {},
   "outputs": [
    {
     "name": "stderr",
     "output_type": "stream",
     "text": [
      "Creating a virtualenv for this project...\n",
      "Pipfile: E:\\HCL_Technical_Lead\\SIE_OSIV_HCL_TRAINING\\PYTHON_DS_DE\\Machine_learning_zoomcamp_DATAtalks\\WEEK-5-Deployment\\homework\\Pipfile\n",
      "Using C:/Users/rajmi/anaconda3/envs/DE_BD/python.exe (3.10.13) to create virtualenv...\n",
      "RuntimeError: failed to build image setuptools, pip, wheel because:\n",
      "Traceback (most recent call last):\n",
      "  File \"C:\\Users\\rajmi\\anaconda3\\envs\\DS_AI_ML\\lib\\site-packages\\virtualenv\\seed\\embed\\via_app_data\\via_app_data.py\", line 56, in _install\n",
      "    installer.build_image()\n",
      "  File \"C:\\Users\\rajmi\\anaconda3\\envs\\DS_AI_ML\\lib\\site-packages\\virtualenv\\seed\\embed\\via_app_data\\pip_install\\base.py\", line 50, in build_image\n",
      "    zip_ref.extractall(str(self._image_dir))\n",
      "  File \"C:\\Users\\rajmi\\anaconda3\\envs\\DS_AI_ML\\lib\\zipfile.py\", line 1645, in extractall\n",
      "    self._extract_member(zipinfo, path, pwd)\n",
      "  File \"C:\\Users\\rajmi\\anaconda3\\envs\\DS_AI_ML\\lib\\zipfile.py\", line 1700, in _extract_member\n",
      "    shutil.copyfileobj(source, target)\n",
      "  File \"C:\\Users\\rajmi\\anaconda3\\envs\\DS_AI_ML\\lib\\shutil.py\", line 198, in copyfileobj\n",
      "    fdst_write(buf)\n",
      "OSError: [Errno 28] No space left on device\n",
      "\n",
      "Traceback (most recent call last):\n",
      "  File \"C:\\Users\\rajmi\\anaconda3\\envs\\DS_AI_ML\\lib\\site-packages\\virtualenv\\seed\\embed\\via_app_data\\via_app_data.py\", line 57, in _install\n",
      "    installer.install(creator.interpreter.version_info)\n",
      "  File \"C:\\Users\\rajmi\\anaconda3\\envs\\DS_AI_ML\\lib\\site-packages\\virtualenv\\seed\\embed\\via_app_data\\pip_install\\base.py\", line 37, in install\n",
      "    self._sync(filename, into)\n",
      "  File \"C:\\Users\\rajmi\\anaconda3\\envs\\DS_AI_ML\\lib\\site-packages\\virtualenv\\seed\\embed\\via_app_data\\pip_install\\copy.py\", line 13, in _sync\n",
      "    copy(src, dst)\n",
      "  File \"C:\\Users\\rajmi\\anaconda3\\envs\\DS_AI_ML\\lib\\site-packages\\virtualenv\\util\\path\\_sync.py\", line 41, in copy\n",
      "    method(str(src), str(dest))\n",
      "  File \"C:\\Users\\rajmi\\anaconda3\\envs\\DS_AI_ML\\lib\\site-packages\\virtualenv\\util\\path\\_sync.py\", line 52, in copytree\n",
      "    shutil.copy(src_f, dest_f)\n",
      "  File \"C:\\Users\\rajmi\\anaconda3\\envs\\DS_AI_ML\\lib\\shutil.py\", line 417, in copy\n",
      "    copyfile(src, dst, follow_symlinks=follow_symlinks)\n",
      "  File \"C:\\Users\\rajmi\\anaconda3\\envs\\DS_AI_ML\\lib\\shutil.py\", line 274, in copyfile\n",
      "    _copyfileobj_readinto(fsrc, fdst, min(file_size, COPY_BUFSIZE))\n",
      "  File \"C:\\Users\\rajmi\\anaconda3\\envs\\DS_AI_ML\\lib\\shutil.py\", line 185, in _copyfileobj_readinto\n",
      "    fdst_write(mv)\n",
      "OSError: [Errno 28] No space left on device\n",
      "\n",
      "Traceback (most recent call last):\n",
      "  File \"C:\\Users\\rajmi\\anaconda3\\envs\\DS_AI_ML\\lib\\site-packages\\virtualenv\\seed\\embed\\via_app_data\\via_app_data.py\", line 57, in _install\n",
      "    installer.install(creator.interpreter.version_info)\n",
      "  File \"C:\\Users\\rajmi\\anaconda3\\envs\\DS_AI_ML\\lib\\site-packages\\virtualenv\\seed\\embed\\via_app_data\\pip_install\\base.py\", line 37, in install\n",
      "    self._sync(filename, into)\n",
      "  File \"C:\\Users\\rajmi\\anaconda3\\envs\\DS_AI_ML\\lib\\site-packages\\virtualenv\\seed\\embed\\via_app_data\\pip_install\\copy.py\", line 13, in _sync\n",
      "    copy(src, dst)\n",
      "  File \"C:\\Users\\rajmi\\anaconda3\\envs\\DS_AI_ML\\lib\\site-packages\\virtualenv\\util\\path\\_sync.py\", line 41, in copy\n",
      "    method(str(src), str(dest))\n",
      "  File \"C:\\Users\\rajmi\\anaconda3\\envs\\DS_AI_ML\\lib\\site-packages\\virtualenv\\util\\path\\_sync.py\", line 52, in copytree\n",
      "    shutil.copy(src_f, dest_f)\n",
      "  File \"C:\\Users\\rajmi\\anaconda3\\envs\\DS_AI_ML\\lib\\shutil.py\", line 417, in copy\n",
      "    copyfile(src, dst, follow_symlinks=follow_symlinks)\n",
      "  File \"C:\\Users\\rajmi\\anaconda3\\envs\\DS_AI_ML\\lib\\shutil.py\", line 274, in copyfile\n",
      "    _copyfileobj_readinto(fsrc, fdst, min(file_size, COPY_BUFSIZE))\n",
      "  File \"C:\\Users\\rajmi\\anaconda3\\envs\\DS_AI_ML\\lib\\shutil.py\", line 185, in _copyfileobj_readinto\n",
      "    fdst_write(mv)\n",
      "OSError: [Errno 28] No space left on device\n",
      "\n",
      "\n",
      "Failed creating virtual environment\n",
      "[pipenv.exceptions.VirtualenvCreationException]: \n",
      "Failed to create virtual environment.\n"
     ]
    }
   ],
   "source": [
    "!pipenv install flask gunicorn\n"
   ]
  },
  {
   "cell_type": "code",
   "execution_count": 10,
   "metadata": {},
   "outputs": [
    {
     "name": "stdout",
     "output_type": "stream",
     "text": [
      " * Serving Flask app '__main__'\n",
      " * Debug mode: on\n"
     ]
    },
    {
     "name": "stderr",
     "output_type": "stream",
     "text": [
      "c:\\Users\\rajmi\\anaconda3\\envs\\DS_AI_ML\\lib\\site-packages\\sklearn\\base.py:347: InconsistentVersionWarning: Trying to unpickle estimator DictVectorizer from version 1.5.2 when using version 1.3.0. This might lead to breaking code or invalid results. Use at your own risk. For more info please refer to:\n",
      "https://scikit-learn.org/stable/model_persistence.html#security-maintainability-limitations\n",
      "  warnings.warn(\n",
      "c:\\Users\\rajmi\\anaconda3\\envs\\DS_AI_ML\\lib\\site-packages\\sklearn\\base.py:347: InconsistentVersionWarning: Trying to unpickle estimator LogisticRegression from version 1.5.2 when using version 1.3.0. This might lead to breaking code or invalid results. Use at your own risk. For more info please refer to:\n",
      "https://scikit-learn.org/stable/model_persistence.html#security-maintainability-limitations\n",
      "  warnings.warn(\n",
      "WARNING: This is a development server. Do not use it in a production deployment. Use a production WSGI server instead.\n",
      " * Running on all addresses (0.0.0.0)\n",
      " * Running on http://127.0.0.1:9696\n",
      " * Running on http://192.168.29.16:9696\n",
      "Press CTRL+C to quit\n",
      " * Restarting with watchdog (windowsapi)\n"
     ]
    },
    {
     "ename": "SystemExit",
     "evalue": "1",
     "output_type": "error",
     "traceback": [
      "An exception has occurred, use %tb to see the full traceback.\n",
      "\u001b[1;31mSystemExit\u001b[0m\u001b[1;31m:\u001b[0m 1\n"
     ]
    },
    {
     "name": "stderr",
     "output_type": "stream",
     "text": [
      "C:\\Users\\rajmi\\AppData\\Roaming\\Python\\Python310\\site-packages\\IPython\\core\\interactiveshell.py:3386: UserWarning: To exit: use 'exit', 'quit', or Ctrl-D.\n",
      "  warn(\"To exit: use 'exit', 'quit', or Ctrl-D.\", stacklevel=1)\n"
     ]
    }
   ],
   "source": [
    "from flask import Flask, request, jsonify\n",
    "import pickle\n",
    "\n",
    "# Load vectorizer and model\n",
    "with open('dv.bin', 'rb') as dv_file:\n",
    "    dv = pickle.load(dv_file)\n",
    "with open('model1.bin', 'rb') as model_file:\n",
    "    model = pickle.load(model_file)\n",
    "\n",
    "app = Flask(__name__)\n",
    "\n",
    "@app.route('/predict', methods=['POST'])\n",
    "def predict():\n",
    "    client = request.get_json()\n",
    "    X = dv.transform([client])\n",
    "    probability = model.predict_proba(X)[0, 1]\n",
    "    return jsonify({'subscription_probability': probability})\n",
    "\n",
    "if __name__ == \"__main__\":\n",
    "    app.run(debug=True, host=\"0.0.0.0\", port=9696)\n"
   ]
  },
  {
   "cell_type": "code",
   "execution_count": null,
   "metadata": {},
   "outputs": [],
   "source": []
  }
 ],
 "metadata": {
  "kernelspec": {
   "display_name": "DS_AI_ML",
   "language": "python",
   "name": "python3"
  },
  "language_info": {
   "codemirror_mode": {
    "name": "ipython",
    "version": 3
   },
   "file_extension": ".py",
   "mimetype": "text/x-python",
   "name": "python",
   "nbconvert_exporter": "python",
   "pygments_lexer": "ipython3",
   "version": "3.10.9"
  }
 },
 "nbformat": 4,
 "nbformat_minor": 2
}
