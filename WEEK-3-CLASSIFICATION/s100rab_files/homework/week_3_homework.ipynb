{
 "cells": [
  {
   "cell_type": "code",
   "execution_count": 15,
   "metadata": {},
   "outputs": [],
   "source": [
    "import pandas as pd\n",
    "\n",
    "# Load the dataset\n",
    "df = pd.read_csv(\"E:\\\\HCL_Technical_Lead\\\\SIE_OSIV_HCL_TRAINING\\\\PYTHON_DS_DE\\\\Machine_learning_zoomcamp_DATAtalks\\\\WEEK-3-CLASSIFICATION\\\\s100rab_files\\\\homework\\\\data\\\\bank-full.csv\", sep=';')\n",
    "\n",
    "# Select only the required features\n",
    "selected_columns = ['age', 'job', 'marital', 'education', 'balance', 'housing', \n",
    "                    'contact', 'day', 'month', 'duration', 'campaign', \n",
    "                    'pdays', 'previous', 'poutcome', 'y']\n",
    "\n",
    "df = df[selected_columns]\n"
   ]
  },
  {
   "cell_type": "code",
   "execution_count": 16,
   "metadata": {},
   "outputs": [
    {
     "name": "stdout",
     "output_type": "stream",
     "text": [
      "The mode of the education column is: secondary\n"
     ]
    }
   ],
   "source": [
    "# Check for missing values\n",
    "df.isnull().sum()\n",
    "\n",
    "# Find the mode of the education column\n",
    "education_mode = df['education'].mode()[0]\n",
    "print(f\"The mode of the education column is: {education_mode}\")\n"
   ]
  },
  {
   "cell_type": "code",
   "execution_count": 17,
   "metadata": {},
   "outputs": [
    {
     "name": "stdout",
     "output_type": "stream",
     "text": [
      "               age   balance       day  duration  campaign     pdays  previous\n",
      "age       1.000000  0.097783 -0.009120 -0.004648  0.004760 -0.023758  0.001288\n",
      "balance   0.097783  1.000000  0.004503  0.021560 -0.014578  0.003435  0.016674\n",
      "day      -0.009120  0.004503  1.000000 -0.030206  0.162490 -0.093044 -0.051710\n",
      "duration -0.004648  0.021560 -0.030206  1.000000 -0.084570 -0.001565  0.001203\n",
      "campaign  0.004760 -0.014578  0.162490 -0.084570  1.000000 -0.088628 -0.032855\n",
      "pdays    -0.023758  0.003435 -0.093044 -0.001565 -0.088628  1.000000  0.454820\n",
      "previous  0.001288  0.016674 -0.051710  0.001203 -0.032855  0.454820  1.000000\n",
      "Features with highest correlation: previous and pdays\n"
     ]
    }
   ],
   "source": [
    "# Select numerical features\n",
    "numerical_features = ['age', 'balance', 'day', 'duration', 'campaign', 'pdays', 'previous']\n",
    "\n",
    "# Compute the correlation matrix\n",
    "corr_matrix = df[numerical_features].corr()\n",
    "\n",
    "# Display the correlation matrix\n",
    "print(corr_matrix)\n",
    "\n",
    "# Identify the two features with the highest correlation\n",
    "max_corr = corr_matrix.unstack().sort_values(ascending=False)\n",
    "# Filter out self-correlations\n",
    "max_corr = max_corr[max_corr < 1].reset_index().iloc[0]\n",
    "print(f\"Features with highest correlation: {max_corr['level_0']} and {max_corr['level_1']}\")\n"
   ]
  },
  {
   "cell_type": "code",
   "execution_count": 18,
   "metadata": {},
   "outputs": [],
   "source": [
    "df['y'] = df['y'].map({'yes': 1, 'no': 0})\n"
   ]
  },
  {
   "cell_type": "code",
   "execution_count": 19,
   "metadata": {},
   "outputs": [],
   "source": [
    "from sklearn.model_selection import train_test_split\n",
    "\n",
    "# Split the data\n",
    "train_data, test_data = train_test_split(df, test_size=0.4, random_state=42)\n",
    "val_data, test_data = train_test_split(test_data, test_size=0.5, random_state=42)\n",
    "\n",
    "# Separate target from features\n",
    "X_train = train_data.drop('y', axis=1)\n",
    "y_train = train_data['y']\n",
    "X_val = val_data.drop('y', axis=1)\n",
    "y_val = val_data['y']\n",
    "X_test = test_data.drop('y', axis=1)\n",
    "y_test = test_data['y']\n"
   ]
  },
  {
   "cell_type": "code",
   "execution_count": 20,
   "metadata": {},
   "outputs": [
    {
     "name": "stdout",
     "output_type": "stream",
     "text": [
      "Mutual Information Scores: {'job': 0.0, 'marital': 0.00303, 'education': 0.00187, 'housing': 0.00403, 'contact': 0.0041, 'month': 0.00444, 'poutcome': 0.0}\n"
     ]
    }
   ],
   "source": [
    "from sklearn.feature_selection import mutual_info_classif\n",
    "\n",
    "# Select categorical columns\n",
    "categorical_columns = ['job', 'marital', 'education', 'housing', 'contact', 'month', 'poutcome']\n",
    "\n",
    "# Apply one-hot encoding\n",
    "X_train_encoded = pd.get_dummies(X_train, columns=categorical_columns)\n",
    "\n",
    "# Calculate mutual information for categorical features\n",
    "mutual_info_scores = mutual_info_classif(pd.get_dummies(X_train[categorical_columns]), y_train)\n",
    "\n",
    "# Create a dictionary of scores\n",
    "mi_dict = dict(zip(categorical_columns, mutual_info_scores))\n",
    "mi_dict = {k: round(v, 5) for k, v in mi_dict.items()}\n",
    "print(f\"Mutual Information Scores: {mi_dict}\")\n"
   ]
  },
  {
   "cell_type": "code",
   "execution_count": 21,
   "metadata": {},
   "outputs": [
    {
     "name": "stdout",
     "output_type": "stream",
     "text": [
      "Validation Accuracy: 0.9\n"
     ]
    }
   ],
   "source": [
    "from sklearn.linear_model import LogisticRegression\n",
    "from sklearn.metrics import accuracy_score\n",
    "\n",
    "# One-hot encode the categorical variables\n",
    "X_train_encoded = pd.get_dummies(X_train, columns=categorical_columns)\n",
    "X_val_encoded = pd.get_dummies(X_val, columns=categorical_columns)\n",
    "\n",
    "# Train logistic regression model\n",
    "model = LogisticRegression(solver='liblinear', C=1.0, max_iter=1000, random_state=42)\n",
    "model.fit(X_train_encoded, y_train)\n",
    "\n",
    "# Predict and calculate accuracy on the validation set\n",
    "y_pred_val = model.predict(X_val_encoded)\n",
    "val_accuracy = accuracy_score(y_val, y_pred_val)\n",
    "print(f\"Validation Accuracy: {round(val_accuracy, 2)}\")\n"
   ]
  },
  {
   "cell_type": "code",
   "execution_count": 22,
   "metadata": {},
   "outputs": [
    {
     "data": {
      "text/plain": [
       "Index(['age', 'balance', 'day', 'duration', 'campaign', 'pdays', 'previous',\n",
       "       'job_admin.', 'job_blue-collar', 'job_entrepreneur', 'job_housemaid',\n",
       "       'job_management', 'job_retired', 'job_self-employed', 'job_services',\n",
       "       'job_student', 'job_technician', 'job_unemployed', 'job_unknown',\n",
       "       'marital_divorced', 'marital_married', 'marital_single',\n",
       "       'education_primary', 'education_secondary', 'education_tertiary',\n",
       "       'education_unknown', 'housing_no', 'housing_yes', 'contact_cellular',\n",
       "       'contact_telephone', 'contact_unknown', 'month_apr', 'month_aug',\n",
       "       'month_dec', 'month_feb', 'month_jan', 'month_jul', 'month_jun',\n",
       "       'month_mar', 'month_may', 'month_nov', 'month_oct', 'month_sep',\n",
       "       'poutcome_failure', 'poutcome_other', 'poutcome_success',\n",
       "       'poutcome_unknown'],\n",
       "      dtype='object')"
      ]
     },
     "execution_count": 22,
     "metadata": {},
     "output_type": "execute_result"
    }
   ],
   "source": [
    "X_train_encoded.columns"
   ]
  },
  {
   "cell_type": "code",
   "execution_count": 23,
   "metadata": {},
   "outputs": [
    {
     "name": "stdout",
     "output_type": "stream",
     "text": [
      "Least important feature: month_oct\n"
     ]
    }
   ],
   "source": [
    "# Original model accuracy\n",
    "original_accuracy = val_accuracy\n",
    "\n",
    "# Iterate over features and calculate accuracy after excluding each feature\n",
    "accuracy_diffs = {}\n",
    "for col in X_train_encoded.columns:\n",
    "    X_train_temp = X_train_encoded.drop(columns=[col])\n",
    "    X_val_temp = X_val_encoded.drop(columns=[col])\n",
    "    \n",
    "    model.fit(X_train_temp, y_train)\n",
    "    y_pred_val_temp = model.predict(X_val_temp)\n",
    "    temp_accuracy = accuracy_score(y_val, y_pred_val_temp)\n",
    "    \n",
    "    accuracy_diffs[col] = original_accuracy - temp_accuracy\n",
    "\n",
    "# Find the feature with the smallest difference\n",
    "least_important_feature = min(accuracy_diffs, key=accuracy_diffs.get)\n",
    "print(f\"Least important feature: {least_important_feature}\")\n"
   ]
  },
  {
   "cell_type": "code",
   "execution_count": 24,
   "metadata": {},
   "outputs": [
    {
     "data": {
      "text/plain": [
       "{'age': -0.0001105950011059953,\n",
       " 'balance': -0.00022119000221187957,\n",
       " 'day': -0.00022119000221187957,\n",
       " 'duration': 0.006193320061933183,\n",
       " 'campaign': 0.00033178500331787486,\n",
       " 'pdays': 0.0,\n",
       " 'previous': 0.00011059500110588427,\n",
       " 'job_admin.': -0.00044238000442387015,\n",
       " 'job_blue-collar': 0.00011059500110588427,\n",
       " 'job_entrepreneur': 0.00011059500110588427,\n",
       " 'job_housemaid': 0.00011059500110588427,\n",
       " 'job_management': -0.0005529750055297544,\n",
       " 'job_retired': 0.0006635700066356387,\n",
       " 'job_self-employed': 0.00011059500110588427,\n",
       " 'job_services': 0.0,\n",
       " 'job_student': 0.0005529750055297544,\n",
       " 'job_technician': 0.00011059500110588427,\n",
       " 'job_unemployed': 0.00011059500110588427,\n",
       " 'job_unknown': -0.00022119000221187957,\n",
       " 'marital_divorced': -0.00022119000221187957,\n",
       " 'marital_married': -0.0001105950011059953,\n",
       " 'marital_single': 0.00022119000221187957,\n",
       " 'education_primary': -0.00022119000221187957,\n",
       " 'education_secondary': -0.00033178500331787486,\n",
       " 'education_tertiary': -0.0001105950011059953,\n",
       " 'education_unknown': -0.00033178500331787486,\n",
       " 'housing_no': -0.0001105950011059953,\n",
       " 'housing_yes': 0.00011059500110588427,\n",
       " 'contact_cellular': -0.0001105950011059953,\n",
       " 'contact_telephone': 0.00011059500110588427,\n",
       " 'contact_unknown': 0.00011059500110588427,\n",
       " 'month_apr': 0.0,\n",
       " 'month_aug': -0.00033178500331787486,\n",
       " 'month_dec': 0.00022119000221187957,\n",
       " 'month_feb': -0.00033178500331787486,\n",
       " 'month_jan': 0.0006635700066356387,\n",
       " 'month_jul': -0.0011059500110595089,\n",
       " 'month_jun': 0.0005529750055297544,\n",
       " 'month_mar': 0.0008847600088475183,\n",
       " 'month_may': 0.00011059500110588427,\n",
       " 'month_nov': -0.00033178500331787486,\n",
       " 'month_oct': -0.0012165450121655041,\n",
       " 'month_sep': -0.00033178500331787486,\n",
       " 'poutcome_failure': 0.0,\n",
       " 'poutcome_other': 0.00033178500331787486,\n",
       " 'poutcome_success': 0.00022119000221187957,\n",
       " 'poutcome_unknown': -0.0005529750055297544}"
      ]
     },
     "execution_count": 24,
     "metadata": {},
     "output_type": "execute_result"
    }
   ],
   "source": [
    "accuracy_diffs"
   ]
  },
  {
   "cell_type": "code",
   "execution_count": 25,
   "metadata": {},
   "outputs": [
    {
     "name": "stdout",
     "output_type": "stream",
     "text": [
      "Best C value: 100, Validation Accuracy: 0.901\n"
     ]
    }
   ],
   "source": [
    "# Test different values of C\n",
    "C_values = [0.01, 0.1, 1, 10, 100]\n",
    "best_accuracy = 0\n",
    "best_C = None\n",
    "\n",
    "for C in C_values:\n",
    "    model = LogisticRegression(solver='liblinear', C=C, max_iter=1000, random_state=42)\n",
    "    model.fit(X_train_encoded, y_train)\n",
    "    \n",
    "    y_pred_val = model.predict(X_val_encoded)\n",
    "    accuracy = accuracy_score(y_val, y_pred_val)\n",
    "    \n",
    "    if accuracy > best_accuracy:\n",
    "        best_accuracy = accuracy\n",
    "        best_C = C\n",
    "\n",
    "print(f\"Best C value: {best_C}, Validation Accuracy: {round(best_accuracy, 3)}\")\n"
   ]
  }
 ],
 "metadata": {
  "kernelspec": {
   "display_name": "DS_AI_ML",
   "language": "python",
   "name": "python3"
  },
  "language_info": {
   "codemirror_mode": {
    "name": "ipython",
    "version": 3
   },
   "file_extension": ".py",
   "mimetype": "text/x-python",
   "name": "python",
   "nbconvert_exporter": "python",
   "pygments_lexer": "ipython3",
   "version": "3.10.9"
  }
 },
 "nbformat": 4,
 "nbformat_minor": 2
}
