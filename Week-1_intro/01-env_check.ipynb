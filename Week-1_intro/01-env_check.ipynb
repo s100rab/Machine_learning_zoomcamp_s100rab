{
 "cells": [
  {
   "cell_type": "code",
   "execution_count": 2,
   "metadata": {},
   "outputs": [
    {
     "name": "stdout",
     "output_type": "stream",
     "text": [
      "1.25.2\n",
      "2.0.3\n"
     ]
    }
   ],
   "source": [
    "import numpy as np\n",
    "import pandas as pd\n",
    "\n",
    "# Check the version of numpy\n",
    "print(np.__version__)\n",
    "print(pd.__version__)\n"
   ]
  },
  {
   "cell_type": "code",
   "execution_count": 5,
   "metadata": {},
   "outputs": [],
   "source": [
    "import os\n",
    "import requests\n",
    "\n",
    "# Create a new folder named 'data'\n",
    "os.makedirs('data', exist_ok=True)\n",
    "\n",
    "url = 'https://raw.githubusercontent.com/alexeygrigorev/datasets/master/laptops.csv'\n",
    "response = requests.get(url)\n",
    "\n",
    "# Save the .csv file in the 'data' folder\n",
    "with open('data/laptops.csv', 'wb') as file:\n",
    "    file.write(response.content)\n"
   ]
  },
  {
   "cell_type": "code",
   "execution_count": 6,
   "metadata": {},
   "outputs": [
    {
     "name": "stdout",
     "output_type": "stream",
     "text": [
      "Total count of rows: 2160\n"
     ]
    },
    {
     "data": {
      "text/html": [
       "<div>\n",
       "<style scoped>\n",
       "    .dataframe tbody tr th:only-of-type {\n",
       "        vertical-align: middle;\n",
       "    }\n",
       "\n",
       "    .dataframe tbody tr th {\n",
       "        vertical-align: top;\n",
       "    }\n",
       "\n",
       "    .dataframe thead th {\n",
       "        text-align: right;\n",
       "    }\n",
       "</style>\n",
       "<table border=\"1\" class=\"dataframe\">\n",
       "  <thead>\n",
       "    <tr style=\"text-align: right;\">\n",
       "      <th></th>\n",
       "      <th>Laptop</th>\n",
       "      <th>Status</th>\n",
       "      <th>Brand</th>\n",
       "      <th>Model</th>\n",
       "      <th>CPU</th>\n",
       "      <th>RAM</th>\n",
       "      <th>Storage</th>\n",
       "      <th>Storage type</th>\n",
       "      <th>GPU</th>\n",
       "      <th>Screen</th>\n",
       "      <th>Touch</th>\n",
       "      <th>Final Price</th>\n",
       "    </tr>\n",
       "  </thead>\n",
       "  <tbody>\n",
       "    <tr>\n",
       "      <th>0</th>\n",
       "      <td>ASUS ExpertBook B1 B1502CBA-EJ0436X Intel Core...</td>\n",
       "      <td>New</td>\n",
       "      <td>Asus</td>\n",
       "      <td>ExpertBook</td>\n",
       "      <td>Intel Core i5</td>\n",
       "      <td>8</td>\n",
       "      <td>512</td>\n",
       "      <td>SSD</td>\n",
       "      <td>NaN</td>\n",
       "      <td>15.6</td>\n",
       "      <td>No</td>\n",
       "      <td>1009.00</td>\n",
       "    </tr>\n",
       "    <tr>\n",
       "      <th>1</th>\n",
       "      <td>Alurin Go Start Intel Celeron N4020/8GB/256GB ...</td>\n",
       "      <td>New</td>\n",
       "      <td>Alurin</td>\n",
       "      <td>Go</td>\n",
       "      <td>Intel Celeron</td>\n",
       "      <td>8</td>\n",
       "      <td>256</td>\n",
       "      <td>SSD</td>\n",
       "      <td>NaN</td>\n",
       "      <td>15.6</td>\n",
       "      <td>No</td>\n",
       "      <td>299.00</td>\n",
       "    </tr>\n",
       "    <tr>\n",
       "      <th>2</th>\n",
       "      <td>ASUS ExpertBook B1 B1502CBA-EJ0424X Intel Core...</td>\n",
       "      <td>New</td>\n",
       "      <td>Asus</td>\n",
       "      <td>ExpertBook</td>\n",
       "      <td>Intel Core i3</td>\n",
       "      <td>8</td>\n",
       "      <td>256</td>\n",
       "      <td>SSD</td>\n",
       "      <td>NaN</td>\n",
       "      <td>15.6</td>\n",
       "      <td>No</td>\n",
       "      <td>789.00</td>\n",
       "    </tr>\n",
       "    <tr>\n",
       "      <th>3</th>\n",
       "      <td>MSI Katana GF66 12UC-082XES Intel Core i7-1270...</td>\n",
       "      <td>New</td>\n",
       "      <td>MSI</td>\n",
       "      <td>Katana</td>\n",
       "      <td>Intel Core i7</td>\n",
       "      <td>16</td>\n",
       "      <td>1000</td>\n",
       "      <td>SSD</td>\n",
       "      <td>RTX 3050</td>\n",
       "      <td>15.6</td>\n",
       "      <td>No</td>\n",
       "      <td>1199.00</td>\n",
       "    </tr>\n",
       "    <tr>\n",
       "      <th>4</th>\n",
       "      <td>HP 15S-FQ5085NS Intel Core i5-1235U/16GB/512GB...</td>\n",
       "      <td>New</td>\n",
       "      <td>HP</td>\n",
       "      <td>15S</td>\n",
       "      <td>Intel Core i5</td>\n",
       "      <td>16</td>\n",
       "      <td>512</td>\n",
       "      <td>SSD</td>\n",
       "      <td>NaN</td>\n",
       "      <td>15.6</td>\n",
       "      <td>No</td>\n",
       "      <td>669.01</td>\n",
       "    </tr>\n",
       "  </tbody>\n",
       "</table>\n",
       "</div>"
      ],
      "text/plain": [
       "                                              Laptop Status   Brand  \\\n",
       "0  ASUS ExpertBook B1 B1502CBA-EJ0436X Intel Core...    New    Asus   \n",
       "1  Alurin Go Start Intel Celeron N4020/8GB/256GB ...    New  Alurin   \n",
       "2  ASUS ExpertBook B1 B1502CBA-EJ0424X Intel Core...    New    Asus   \n",
       "3  MSI Katana GF66 12UC-082XES Intel Core i7-1270...    New     MSI   \n",
       "4  HP 15S-FQ5085NS Intel Core i5-1235U/16GB/512GB...    New      HP   \n",
       "\n",
       "        Model            CPU  RAM  Storage Storage type       GPU  Screen  \\\n",
       "0  ExpertBook  Intel Core i5    8      512          SSD       NaN    15.6   \n",
       "1          Go  Intel Celeron    8      256          SSD       NaN    15.6   \n",
       "2  ExpertBook  Intel Core i3    8      256          SSD       NaN    15.6   \n",
       "3      Katana  Intel Core i7   16     1000          SSD  RTX 3050    15.6   \n",
       "4         15S  Intel Core i5   16      512          SSD       NaN    15.6   \n",
       "\n",
       "  Touch  Final Price  \n",
       "0    No      1009.00  \n",
       "1    No       299.00  \n",
       "2    No       789.00  \n",
       "3    No      1199.00  \n",
       "4    No       669.01  "
      ]
     },
     "execution_count": 6,
     "metadata": {},
     "output_type": "execute_result"
    }
   ],
   "source": [
    "# Load the CSV file into a DataFrame\n",
    "df_laptops = pd.read_csv('data/laptops.csv')\n",
    "\n",
    "# Display the total count of rows\n",
    "print(f\"Total count of rows: {len(df_laptops)}\")\n",
    "\n",
    "# Display the first few rows of the dataframe\n",
    "df_laptops.head()"
   ]
  },
  {
   "cell_type": "code",
   "execution_count": 10,
   "metadata": {},
   "outputs": [
    {
     "data": {
      "text/html": [
       "<div>\n",
       "<style scoped>\n",
       "    .dataframe tbody tr th:only-of-type {\n",
       "        vertical-align: middle;\n",
       "    }\n",
       "\n",
       "    .dataframe tbody tr th {\n",
       "        vertical-align: top;\n",
       "    }\n",
       "\n",
       "    .dataframe thead th {\n",
       "        text-align: right;\n",
       "    }\n",
       "</style>\n",
       "<table border=\"1\" class=\"dataframe\">\n",
       "  <thead>\n",
       "    <tr style=\"text-align: right;\">\n",
       "      <th></th>\n",
       "      <th>RAM</th>\n",
       "      <th>Storage</th>\n",
       "      <th>Screen</th>\n",
       "      <th>Final Price</th>\n",
       "    </tr>\n",
       "  </thead>\n",
       "  <tbody>\n",
       "    <tr>\n",
       "      <th>count</th>\n",
       "      <td>2160.000000</td>\n",
       "      <td>2160.000000</td>\n",
       "      <td>2156.000000</td>\n",
       "      <td>2160.000000</td>\n",
       "    </tr>\n",
       "    <tr>\n",
       "      <th>mean</th>\n",
       "      <td>15.413889</td>\n",
       "      <td>596.294444</td>\n",
       "      <td>15.168112</td>\n",
       "      <td>1312.638509</td>\n",
       "    </tr>\n",
       "    <tr>\n",
       "      <th>std</th>\n",
       "      <td>9.867815</td>\n",
       "      <td>361.220506</td>\n",
       "      <td>1.203329</td>\n",
       "      <td>911.475417</td>\n",
       "    </tr>\n",
       "    <tr>\n",
       "      <th>min</th>\n",
       "      <td>4.000000</td>\n",
       "      <td>0.000000</td>\n",
       "      <td>10.100000</td>\n",
       "      <td>201.050000</td>\n",
       "    </tr>\n",
       "    <tr>\n",
       "      <th>25%</th>\n",
       "      <td>8.000000</td>\n",
       "      <td>256.000000</td>\n",
       "      <td>14.000000</td>\n",
       "      <td>661.082500</td>\n",
       "    </tr>\n",
       "    <tr>\n",
       "      <th>50%</th>\n",
       "      <td>16.000000</td>\n",
       "      <td>512.000000</td>\n",
       "      <td>15.600000</td>\n",
       "      <td>1031.945000</td>\n",
       "    </tr>\n",
       "    <tr>\n",
       "      <th>75%</th>\n",
       "      <td>16.000000</td>\n",
       "      <td>1000.000000</td>\n",
       "      <td>15.600000</td>\n",
       "      <td>1708.970000</td>\n",
       "    </tr>\n",
       "    <tr>\n",
       "      <th>max</th>\n",
       "      <td>128.000000</td>\n",
       "      <td>4000.000000</td>\n",
       "      <td>18.000000</td>\n",
       "      <td>7150.470000</td>\n",
       "    </tr>\n",
       "  </tbody>\n",
       "</table>\n",
       "</div>"
      ],
      "text/plain": [
       "               RAM      Storage       Screen  Final Price\n",
       "count  2160.000000  2160.000000  2156.000000  2160.000000\n",
       "mean     15.413889   596.294444    15.168112  1312.638509\n",
       "std       9.867815   361.220506     1.203329   911.475417\n",
       "min       4.000000     0.000000    10.100000   201.050000\n",
       "25%       8.000000   256.000000    14.000000   661.082500\n",
       "50%      16.000000   512.000000    15.600000  1031.945000\n",
       "75%      16.000000  1000.000000    15.600000  1708.970000\n",
       "max     128.000000  4000.000000    18.000000  7150.470000"
      ]
     },
     "execution_count": 10,
     "metadata": {},
     "output_type": "execute_result"
    }
   ],
   "source": [
    "df_laptops.describe() \n"
   ]
  },
  {
   "cell_type": "code",
   "execution_count": 11,
   "metadata": {},
   "outputs": [
    {
     "name": "stdout",
     "output_type": "stream",
     "text": [
      "Laptop brands count: 27\n"
     ]
    }
   ],
   "source": [
    "brand_count = df_laptops['Brand'].nunique()\n",
    "print(f\"Laptop brands count: {brand_count}\")"
   ]
  },
  {
   "cell_type": "code",
   "execution_count": 12,
   "metadata": {},
   "outputs": [
    {
     "name": "stdout",
     "output_type": "stream",
     "text": [
      "Columns with missing values: 3\n"
     ]
    }
   ],
   "source": [
    "missing_values_count = df_laptops.isnull().sum().gt(0).sum()\n",
    "print(f\"Columns with missing values: {missing_values_count}\")\n"
   ]
  },
  {
   "cell_type": "code",
   "execution_count": 15,
   "metadata": {},
   "outputs": [
    {
     "name": "stdout",
     "output_type": "stream",
     "text": [
      "Maximum final price of Dell notebooks: 3936.0\n"
     ]
    }
   ],
   "source": [
    "max_dell_price = df_laptops[df_laptops['Brand'] == 'Dell']['Final Price'].max()\n",
    "print(f\"Maximum final price of Dell notebooks: {max_dell_price}\")"
   ]
  },
  {
   "cell_type": "code",
   "execution_count": 16,
   "metadata": {},
   "outputs": [
    {
     "name": "stdout",
     "output_type": "stream",
     "text": [
      "Median value of Screen before filling missing values: 15.6\n",
      "Most frequent value of Screen: 15.6\n",
      "Median value of Screen after filling missing values: 15.6\n"
     ]
    }
   ],
   "source": [
    "\n",
    "# Q6: Median value of Screen column\n",
    "median_screen_before = df_laptops['Screen'].median()\n",
    "most_frequent_screen = df_laptops['Screen'].mode()[0]\n",
    "df_laptops['Screen'].fillna(most_frequent_screen, inplace=True)\n",
    "median_screen_after = df_laptops['Screen'].median()\n",
    "\n",
    "print(f\"Median value of Screen before filling missing values: {median_screen_before}\")\n",
    "print(f\"Most frequent value of Screen: {most_frequent_screen}\")\n",
    "print(f\"Median value of Screen after filling missing values: {median_screen_after}\")"
   ]
  },
  {
   "cell_type": "code",
   "execution_count": 17,
   "metadata": {},
   "outputs": [
    {
     "name": "stdout",
     "output_type": "stream",
     "text": [
      "Sum of all the elements of the result: 91.29988062995815\n"
     ]
    }
   ],
   "source": [
    "import numpy as np\n",
    "\n",
    "# Step 1: Select all \"Innjoo\" laptops\n",
    "innjoo_laptops = df_laptops[df_laptops['Brand'] == 'Innjoo']\n",
    "\n",
    "# Step 2: Select only columns RAM, Storage, Screen\n",
    "X_df = innjoo_laptops[['RAM', 'Storage', 'Screen']]\n",
    "\n",
    "# Step 3: Get the underlying NumPy array\n",
    "X = X_df.to_numpy()\n",
    "\n",
    "# Step 4: Compute matrix-matrix multiplication between the transpose of X and X\n",
    "XTX = X.T @ X\n",
    "\n",
    "# Step 5: Compute the inverse of XTX\n",
    "XTX_inv = np.linalg.inv(XTX)\n",
    "\n",
    "# Step 6: Create an array y with the given values\n",
    "y = np.array([1100, 1300, 800, 900, 1000, 1100])\n",
    "\n",
    "# Step 7: Multiply the inverse of XTX with the transpose of X, and then multiply the result by y\n",
    "w = XTX_inv @ X.T @ y\n",
    "\n",
    "# Step 8: Sum all the elements of the result\n",
    "sum_w = w.sum()\n",
    "print(f\"Sum of all the elements of the result: {sum_w}\")"
   ]
  }
 ],
 "metadata": {
  "kernelspec": {
   "display_name": "DS_AI_ML",
   "language": "python",
   "name": "python3"
  },
  "language_info": {
   "codemirror_mode": {
    "name": "ipython",
    "version": 3
   },
   "file_extension": ".py",
   "mimetype": "text/x-python",
   "name": "python",
   "nbconvert_exporter": "python",
   "pygments_lexer": "ipython3",
   "version": "3.10.9"
  }
 },
 "nbformat": 4,
 "nbformat_minor": 2
}
